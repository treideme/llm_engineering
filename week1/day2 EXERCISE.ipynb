{
 "cells": [
  {
   "cell_type": "markdown",
   "id": "d15d8294-3328-4e07-ad16-8a03e9bbfdb9",
   "metadata": {},
   "source": [
    "# Welcome to your first assignment!\n",
    "\n",
    "Instructions are below. Please give this a try, and look in the solutions folder if you get stuck (or feel free to ask me!)"
   ]
  },
  {
   "cell_type": "markdown",
   "id": "ada885d9-4d42-4d9b-97f0-74fbbbfe93a9",
   "metadata": {},
   "source": [
    "<table style=\"margin: 0; text-align: left;\">\n",
    "    <tr>\n",
    "        <td style=\"width: 150px; height: 150px; vertical-align: middle;\">\n",
    "            <img src=\"../resources.jpg\" width=\"150\" height=\"150\" style=\"display: block;\" />\n",
    "        </td>\n",
    "        <td>\n",
    "            <h2 style=\"color:#f71;\">Just before we get to the assignment --</h2>\n",
    "            <span style=\"color:#f71;\">I thought I'd take a second to point you at this page of useful resources for the course. This includes links to all the slides.<br/>\n",
    "            <a href=\"https://edwarddonner.com/2024/11/13/llm-engineering-resources/\">https://edwarddonner.com/2024/11/13/llm-engineering-resources/</a><br/>\n",
    "            Please keep this bookmarked, and I'll continue to add more useful links there over time.\n",
    "            </span>\n",
    "        </td>\n",
    "    </tr>\n",
    "</table>"
   ]
  },
  {
   "cell_type": "markdown",
   "id": "6e9fa1fc-eac5-4d1d-9be4-541b3f2b3458",
   "metadata": {},
   "source": [
    "# HOMEWORK EXERCISE ASSIGNMENT\n",
    "\n",
    "Upgrade the day 1 project to summarize a webpage to use an Open Source model running locally via Ollama rather than OpenAI\n",
    "\n",
    "You'll be able to use this technique for all subsequent projects if you'd prefer not to use paid APIs.\n",
    "\n",
    "**Benefits:**\n",
    "1. No API charges - open-source\n",
    "2. Data doesn't leave your box\n",
    "\n",
    "**Disadvantages:**\n",
    "1. Significantly less power than Frontier Model\n",
    "\n",
    "## Recap on installation of Ollama\n",
    "\n",
    "Simply visit [ollama.com](https://ollama.com) and install!\n",
    "\n",
    "Once complete, the ollama server should already be running locally.  \n",
    "If you visit:  \n",
    "[http://localhost:11434/](http://localhost:11434/)\n",
    "\n",
    "You should see the message `Ollama is running`.  \n",
    "\n",
    "If not, bring up a new Terminal (Mac) or Powershell (Windows) and enter `ollama serve`  \n",
    "And in another Terminal (Mac) or Powershell (Windows), enter `ollama pull llama3.2`  \n",
    "Then try [http://localhost:11434/](http://localhost:11434/) again.\n",
    "\n",
    "If Ollama is slow on your machine, try using `llama3.2:1b` as an alternative. Run `ollama pull llama3.2:1b` from a Terminal or Powershell, and change the code below from `MODEL = \"llama3.2\"` to `MODEL = \"llama3.2:1b\"`"
   ]
  },
  {
   "cell_type": "code",
   "execution_count": 1,
   "id": "4e2a9393-7767-488e-a8bf-27c12dca35bd",
   "metadata": {},
   "outputs": [],
   "source": [
    "# imports\n",
    "\n",
    "import requests\n",
    "from bs4 import BeautifulSoup\n",
    "from IPython.display import Markdown, display"
   ]
  },
  {
   "cell_type": "code",
   "execution_count": 2,
   "id": "29ddd15d-a3c5-4f4e-a678-873f56162724",
   "metadata": {},
   "outputs": [],
   "source": [
    "# Constants\n",
    "\n",
    "OLLAMA_API = \"http://localhost:11434/api/chat\"\n",
    "HEADERS = {\"Content-Type\": \"application/json\"}\n",
    "MODEL = \"llama3.2\""
   ]
  },
  {
   "cell_type": "code",
   "execution_count": 3,
   "id": "dac0a679-599c-441f-9bf2-ddc73d35b940",
   "metadata": {},
   "outputs": [],
   "source": [
    "# Create a messages list using the same format that we used for OpenAI\n",
    "\n",
    "messages = [\n",
    "    {\"role\": \"user\", \"content\": \"Describe some of the business applications of Generative AI\"}\n",
    "]"
   ]
  },
  {
   "cell_type": "code",
   "execution_count": 4,
   "id": "7bb9c624-14f0-4945-a719-8ddb64f66f47",
   "metadata": {},
   "outputs": [],
   "source": [
    "payload = {\n",
    "        \"model\": MODEL,\n",
    "        \"messages\": messages,\n",
    "        \"stream\": False\n",
    "    }"
   ]
  },
  {
   "cell_type": "code",
   "execution_count": 6,
   "id": "42b9f644-522d-4e05-a691-56e7658c0ea9",
   "metadata": {},
   "outputs": [
    {
     "name": "stdout",
     "output_type": "stream",
     "text": [
      "Generative AI has numerous business applications across various industries, including:\n",
      "\n",
      "1. **Content Generation**: Automate content creation, such as writing articles, social media posts, and product descriptions, to improve efficiency and consistency.\n",
      "2. **Image and Video Creation**: Use generative models to create high-quality images and videos for marketing campaigns, advertising, and e-commerce websites.\n",
      "3. **Product Design**: Utilize generative AI to design new products, such as furniture, clothing, or electronics, reducing the need for manual prototyping and improving product development speed.\n",
      "4. **Predictive Maintenance**: Apply machine learning algorithms to predict equipment failures and schedule maintenance, reducing downtime and increasing overall efficiency.\n",
      "5. **Customer Service Chatbots**: Develop conversational AI models that can understand customer queries and provide personalized responses, enhancing customer experience and support.\n",
      "6. **Marketing Campaign Optimization**: Use generative AI to analyze customer data, identify patterns, and suggest personalized marketing campaigns, improving return on investment (ROI) and conversion rates.\n",
      "7. **Financial Analysis and Forecasting**: Employ generative models to analyze financial data, predict market trends, and provide insights for informed business decisions.\n",
      "8. **Cybersecurity Threat Detection**: Utilize generative AI-powered systems to detect and respond to cyber threats in real-time, reducing the risk of data breaches and attacks.\n",
      "9. **Supply Chain Optimization**: Apply machine learning algorithms to optimize supply chain logistics, predicting demand fluctuations, and improving inventory management.\n",
      "10. **Creative Collaboration**: Use generative models to facilitate human-AI collaboration in creative industries, such as music composition, art generation, or screenplay writing.\n",
      "11. **Language Translation**: Develop generative AI-powered translation systems that can understand context and generate accurate translations, breaking language barriers for businesses.\n",
      "12. **Data Augmentation**: Employ generative models to augment existing datasets, improving the quality and diversity of training data for machine learning algorithms.\n",
      "13. **Predictive Quality Control**: Use generative AI to analyze product images or sensor data, predicting quality issues and enabling proactive quality control measures.\n",
      "14. **Sales Forecasting**: Develop generative models that can predict sales performance based on historical trends and market conditions, helping businesses make informed decisions.\n",
      "15. **Human Resources Management**: Utilize generative AI to analyze employee data, identify talent gaps, and provide personalized training recommendations, enhancing employee development and engagement.\n",
      "\n",
      "These are just a few examples of the many business applications of Generative AI. As the technology continues to evolve, we can expect to see even more innovative uses in various industries.\n"
     ]
    }
   ],
   "source": [
    "response = requests.post(OLLAMA_API, json=payload, headers=HEADERS)\n",
    "print(response.json()['message']['content'])"
   ]
  },
  {
   "cell_type": "markdown",
   "id": "6a021f13-d6a1-4b96-8e18-4eae49d876fe",
   "metadata": {},
   "source": [
    "# Introducing the ollama package\n",
    "\n",
    "And now we'll do the same thing, but using the elegant ollama python package instead of a direct HTTP call.\n",
    "\n",
    "Under the hood, it's making the same call as above to the ollama server running at localhost:11434"
   ]
  },
  {
   "cell_type": "code",
   "execution_count": 7,
   "id": "7745b9c4-57dc-4867-9180-61fa5db55eb8",
   "metadata": {},
   "outputs": [
    {
     "name": "stdout",
     "output_type": "stream",
     "text": [
      "Generative AI has numerous business applications across various industries, including:\n",
      "\n",
      "1. **Content Creation**: Generative AI can be used to create personalized content such as articles, social media posts, and even entire books. This technology can help reduce content creation costs and increase efficiency.\n",
      "2. **Product Design**: Generative AI-powered design tools can generate 3D models, prototypes, and product designs, reducing the time and effort required for traditional design processes.\n",
      "3. **Marketing Automation**: Generative AI can be used to create personalized marketing campaigns, automate lead generation, and even generate social media content.\n",
      "4. **Customer Service**: Chatbots powered by Generative AI can provide 24/7 customer support, helping businesses improve response times and reduce costs.\n",
      "5. **Personalized Recommendations**: Generative AI can be used to analyze customer behavior and preferences, providing personalized product recommendations in e-commerce, retail, and entertainment industries.\n",
      "6. **Financial Analysis**: Generative AI can help with financial analysis, such as predicting stock prices, analyzing market trends, and identifying potential investment opportunities.\n",
      "7. **Healthcare**: Generative AI can be used to analyze medical images, generate personalized treatment plans, and even predict patient outcomes.\n",
      "8. **Supply Chain Optimization**: Generative AI can be used to optimize supply chain operations, predicting demand fluctuations, identifying bottlenecks, and improving logistics management.\n",
      "9. **Virtual Reality (VR) and Augmented Reality (AR)**: Generative AI can be used to create immersive experiences in VR/AR, enabling businesses to develop new applications and services.\n",
      "10. **Innovation Incubation**: Generative AI can help businesses generate new ideas, product concepts, and business models by analyzing trends, patterns, and market requirements.\n",
      "\n",
      "Some specific examples of companies using Generative AI include:\n",
      "\n",
      "* Google's DeepMind generating customized content for YouTube\n",
      "* Microsoft's Azure Machine Learning powering chatbots for customer service\n",
      "* Amazon's Alexa integrating with Generative AI to generate personalized recommendations\n",
      "* Ford's autonomous vehicle technology using Generative AI for predictive maintenance\n",
      "\n",
      "These are just a few examples of the many business applications of Generative AI. As the technology continues to evolve, we can expect to see even more innovative uses across various industries.\n"
     ]
    }
   ],
   "source": [
    "import ollama\n",
    "\n",
    "response = ollama.chat(model=MODEL, messages=messages)\n",
    "print(response['message']['content'])"
   ]
  },
  {
   "cell_type": "markdown",
   "id": "1622d9bb-5c68-4d4e-9ca4-b492c751f898",
   "metadata": {},
   "source": [
    "# NOW the exercise for you\n",
    "\n",
    "Take the code from day1 and incorporate it here, to build a website summarizer that uses Llama 3.2 running locally instead of OpenAI"
   ]
  },
  {
   "cell_type": "code",
   "execution_count": 20,
   "id": "85664a38-a903-4b2f-b2a3-e89df4a940af",
   "metadata": {},
   "outputs": [],
   "source": [
    "# imports\n",
    "\n",
    "import os\n",
    "import requests\n",
    "from dotenv import load_dotenv\n",
    "from bs4 import BeautifulSoup\n",
    "from IPython.display import Markdown, display\n",
    "import ollama\n",
    "\n",
    "OLLAMA_API = \"http://localhost:11434/api/chat\"\n",
    "HEADERS = {\"Content-Type\": \"application/json\"}\n",
    "MODEL = \"llama3.2\"\n",
    "\n",
    "# If you get an error running this cell, then please head over to the troubleshooting notebook!"
   ]
  },
  {
   "cell_type": "code",
   "execution_count": 21,
   "id": "88b311ff-e1f5-40b8-827a-7d3dc2005b09",
   "metadata": {},
   "outputs": [],
   "source": [
    "# See how this function creates exactly the format above\n",
    "\n",
    "def messages_for(website):\n",
    "    return [\n",
    "        {\"role\": \"system\", \"content\": system_prompt},\n",
    "        {\"role\": \"user\", \"content\": user_prompt_for(website)}\n",
    "    ]"
   ]
  },
  {
   "cell_type": "code",
   "execution_count": 22,
   "id": "bc9bfd42-cb5e-429c-b352-09274d37d26b",
   "metadata": {},
   "outputs": [],
   "source": [
    "# Define our system prompt - you can experiment with this later, changing the last sentence to 'Respond in markdown in Spanish.\"\n",
    "\n",
    "system_prompt = \"You are an assistant that analyzes the contents of a website \\\n",
    "and provides a short summary, ignoring text that might be navigation related. \\\n",
    "Respond in markdown.\""
   ]
  },
  {
   "cell_type": "code",
   "execution_count": 23,
   "id": "61fe18af-a323-4e38-bca9-0161758878d8",
   "metadata": {},
   "outputs": [],
   "source": [
    "# A function that writes a User Prompt that asks for summaries of websites:\n",
    "\n",
    "def user_prompt_for(website):\n",
    "    user_prompt = f\"You are looking at a website titled {website.title}\"\n",
    "    user_prompt += \"\\nThe contents of this website is as follows; \\\n",
    "please provide a short summary of this website in markdown. \\\n",
    "If it includes news or announcements, then summarize these too.\\n\\n\"\n",
    "    user_prompt += website.text\n",
    "    return user_prompt"
   ]
  },
  {
   "cell_type": "code",
   "execution_count": 24,
   "id": "bad14590-bac9-47da-817d-a3ed9d48caed",
   "metadata": {},
   "outputs": [],
   "source": [
    "# A class to represent a Webpage\n",
    "# If you're not familiar with Classes, check out the \"Intermediate Python\" notebook\n",
    "\n",
    "class Website:\n",
    "\n",
    "    def __init__(self, url):\n",
    "        \"\"\"\n",
    "        Create this Website object from the given url using the BeautifulSoup library\n",
    "        \"\"\"\n",
    "        self.url = url\n",
    "        response = requests.get(url)\n",
    "        soup = BeautifulSoup(response.content, 'html.parser')\n",
    "        self.title = soup.title.string if soup.title else \"No title found\"\n",
    "        for irrelevant in soup.body([\"script\", \"style\", \"img\", \"input\"]):\n",
    "            irrelevant.decompose()\n",
    "        self.text = soup.body.get_text(separator=\"\\n\", strip=True)"
   ]
  },
  {
   "cell_type": "code",
   "execution_count": 28,
   "id": "103a375f-4fa6-49f2-949c-89db3db7e91c",
   "metadata": {},
   "outputs": [],
   "source": [
    "# And now: call the OpenAI API. You will get very familiar with this!\n",
    "\n",
    "def summarize(url):\n",
    "    website = Website(url)\n",
    "    response = ollama.chat(model=MODEL, messages=messages)\n",
    "    return response.message.content"
   ]
  },
  {
   "cell_type": "code",
   "execution_count": 26,
   "id": "04f8426a-da7c-40b8-80c3-02e94f4e44a8",
   "metadata": {},
   "outputs": [],
   "source": [
    "# A function to display this nicely in the Jupyter output, using markdown\n",
    "\n",
    "def display_summary(url):\n",
    "    summary = summarize(url)\n",
    "    display(Markdown(summary))"
   ]
  },
  {
   "cell_type": "code",
   "execution_count": 29,
   "id": "3e98751d-76a1-4531-85cc-e7ccdd9e09f8",
   "metadata": {},
   "outputs": [
    {
     "data": {
      "text/markdown": [
       "Generative AI has numerous business applications across various industries, including:\n",
       "\n",
       "1. **Content Creation**: Generative AI can generate high-quality content such as blog posts, social media posts, and product descriptions, reducing the need for human writers.\n",
       "2. **Marketing Automation**: AI-generated content can be used to personalize marketing messages, automate email campaigns, and optimize ad targeting for better ROI.\n",
       "3. **Product Design**: Generative AI can create 3D models, product designs, and prototypes, streamlining the design process and reducing costs.\n",
       "4. **Image and Video Generation**: AI-generated images and videos can be used for:\n",
       " * Social media content creation\n",
       " * Advertising and marketing campaigns\n",
       " * Product visualizations (e.g., e-commerce product pages)\n",
       "5. **Music and Audio Generation**: Generative AI can create music, sound effects, and voiceovers for various applications, such as video games, film, and advertising.\n",
       "6. **Chatbots and Virtual Assistants**: AI-powered chatbots can engage customers, provide support, and answer frequently asked questions, improving customer experience and reducing support costs.\n",
       "7. **Predictive Maintenance**: Generative AI can analyze sensor data from machines to predict maintenance needs, reducing downtime and increasing overall equipment effectiveness (OEE).\n",
       "8. **Risk Management**: AI-generated models can identify potential risks and threats in various industries, such as finance, healthcare, and energy, enabling proactive risk mitigation strategies.\n",
       "9. **Data Augmentation**: Generative AI can augment existing datasets with new, synthetic data, improving model performance and reducing the need for large datasets.\n",
       "10. **Customer Insights**: AI-powered analytics can generate insights on customer behavior, preferences, and interests, helping businesses tailor their offerings and marketing strategies.\n",
       "\n",
       "Industry-specific applications:\n",
       "\n",
       "1. **Finance**: AI-generated models can predict credit risk, detect fraud, and optimize investment portfolios.\n",
       "2. **Healthcare**: Generative AI can analyze medical images, diagnose diseases, and develop personalized treatment plans.\n",
       "3. **Retail**: AI-powered chatbots can engage customers, provide product recommendations, and improve the overall shopping experience.\n",
       "4. **Manufacturing**: Generative AI can optimize production workflows, predict maintenance needs, and improve product quality.\n",
       "\n",
       "These are just a few examples of the many business applications of Generative AI. As the technology continues to evolve, we can expect to see even more innovative use cases emerge across various industries."
      ],
      "text/plain": [
       "<IPython.core.display.Markdown object>"
      ]
     },
     "metadata": {},
     "output_type": "display_data"
    }
   ],
   "source": [
    "display_summary(\"https://edwarddonner.com\")"
   ]
  },
  {
   "cell_type": "code",
   "execution_count": null,
   "id": "0801d4dd-7c49-4f13-b03c-7f8329621c32",
   "metadata": {},
   "outputs": [],
   "source": []
  }
 ],
 "metadata": {
  "kernelspec": {
   "display_name": "Python 3 (ipykernel)",
   "language": "python",
   "name": "python3"
  },
  "language_info": {
   "codemirror_mode": {
    "name": "ipython",
    "version": 3
   },
   "file_extension": ".py",
   "mimetype": "text/x-python",
   "name": "python",
   "nbconvert_exporter": "python",
   "pygments_lexer": "ipython3",
   "version": "3.10.12"
  }
 },
 "nbformat": 4,
 "nbformat_minor": 5
}
