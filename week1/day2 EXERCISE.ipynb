{
 "cells": [
  {
   "cell_type": "markdown",
   "id": "d15d8294-3328-4e07-ad16-8a03e9bbfdb9",
   "metadata": {},
   "source": [
    "# Welcome to your first assignment!\n",
    "\n",
    "Instructions are below. Please give this a try, and look in the solutions folder if you get stuck (or feel free to ask me!)"
   ]
  },
  {
   "cell_type": "markdown",
   "id": "ada885d9-4d42-4d9b-97f0-74fbbbfe93a9",
   "metadata": {},
   "source": [
    "<table style=\"margin: 0; text-align: left;\">\n",
    "    <tr>\n",
    "        <td style=\"width: 150px; height: 150px; vertical-align: middle;\">\n",
    "            <img src=\"../resources.jpg\" width=\"150\" height=\"150\" style=\"display: block;\" />\n",
    "        </td>\n",
    "        <td>\n",
    "            <h2 style=\"color:#f71;\">Just before we get to the assignment --</h2>\n",
    "            <span style=\"color:#f71;\">I thought I'd take a second to point you at this page of useful resources for the course. This includes links to all the slides.<br/>\n",
    "            <a href=\"https://edwarddonner.com/2024/11/13/llm-engineering-resources/\">https://edwarddonner.com/2024/11/13/llm-engineering-resources/</a><br/>\n",
    "            Please keep this bookmarked, and I'll continue to add more useful links there over time.\n",
    "            </span>\n",
    "        </td>\n",
    "    </tr>\n",
    "</table>"
   ]
  },
  {
   "cell_type": "markdown",
   "id": "6e9fa1fc-eac5-4d1d-9be4-541b3f2b3458",
   "metadata": {},
   "source": [
    "# HOMEWORK EXERCISE ASSIGNMENT\n",
    "\n",
    "Upgrade the day 1 project to summarize a webpage to use an Open Source model running locally via Ollama rather than OpenAI\n",
    "\n",
    "You'll be able to use this technique for all subsequent projects if you'd prefer not to use paid APIs.\n",
    "\n",
    "**Benefits:**\n",
    "1. No API charges - open-source\n",
    "2. Data doesn't leave your box\n",
    "\n",
    "**Disadvantages:**\n",
    "1. Significantly less power than Frontier Model\n",
    "\n",
    "## Recap on installation of Ollama\n",
    "\n",
    "Simply visit [ollama.com](https://ollama.com) and install!\n",
    "\n",
    "Once complete, the ollama server should already be running locally.  \n",
    "If you visit:  \n",
    "[http://localhost:11434/](http://localhost:11434/)\n",
    "\n",
    "You should see the message `Ollama is running`.  \n",
    "\n",
    "If not, bring up a new Terminal (Mac) or Powershell (Windows) and enter `ollama serve`  \n",
    "And in another Terminal (Mac) or Powershell (Windows), enter `ollama pull llama3.2`  \n",
    "Then try [http://localhost:11434/](http://localhost:11434/) again.\n",
    "\n",
    "If Ollama is slow on your machine, try using `llama3.2:1b` as an alternative. Run `ollama pull llama3.2:1b` from a Terminal or Powershell, and change the code below from `MODEL = \"llama3.2\"` to `MODEL = \"llama3.2:1b\"`"
   ]
  },
  {
   "cell_type": "code",
   "execution_count": 1,
   "id": "4e2a9393-7767-488e-a8bf-27c12dca35bd",
   "metadata": {},
   "outputs": [],
   "source": [
    "# imports\n",
    "\n",
    "import requests\n",
    "from bs4 import BeautifulSoup\n",
    "from IPython.display import Markdown, display"
   ]
  },
  {
   "cell_type": "code",
   "execution_count": 2,
   "id": "29ddd15d-a3c5-4f4e-a678-873f56162724",
   "metadata": {},
   "outputs": [],
   "source": [
    "# Constants\n",
    "\n",
    "OLLAMA_API = \"http://localhost:11434/api/chat\"\n",
    "HEADERS = {\"Content-Type\": \"application/json\"}\n",
    "MODEL = \"llama3.2\""
   ]
  },
  {
   "cell_type": "code",
   "execution_count": 3,
   "id": "dac0a679-599c-441f-9bf2-ddc73d35b940",
   "metadata": {},
   "outputs": [],
   "source": [
    "# Create a messages list using the same format that we used for OpenAI\n",
    "\n",
    "messages = [\n",
    "    {\"role\": \"user\", \"content\": \"Describe some of the business applications of Generative AI\"}\n",
    "]"
   ]
  },
  {
   "cell_type": "code",
   "execution_count": 4,
   "id": "7bb9c624-14f0-4945-a719-8ddb64f66f47",
   "metadata": {},
   "outputs": [],
   "source": [
    "payload = {\n",
    "        \"model\": MODEL,\n",
    "        \"messages\": messages,\n",
    "        \"stream\": False\n",
    "    }"
   ]
  },
  {
   "cell_type": "code",
   "execution_count": 5,
   "id": "42b9f644-522d-4e05-a691-56e7658c0ea9",
   "metadata": {},
   "outputs": [
    {
     "name": "stdout",
     "output_type": "stream",
     "text": [
      "Generative AI has numerous business applications across various industries. Here are some examples:\n",
      "\n",
      "1. **Content Generation**: Generative AI can create high-quality, personalized content such as product descriptions, social media posts, and blog articles. This helps reduce content creation costs and improves content consistency.\n",
      "2. **Image and Video Generation**: Generative AI can create visually appealing images and videos for marketing campaigns, advertisements, and product demos. This can help brands establish a consistent visual identity and improve their online presence.\n",
      "3. **Product Design**: Generative AI can aid in product design by creating 3D models, prototypes, and mockups. This helps designers iterate faster and reduce the need for physical prototypes.\n",
      "4. **Chatbots and Virtual Assistants**: Generative AI can power chatbots and virtual assistants that provide personalized customer support, answer frequently asked questions, and offer product recommendations.\n",
      "5. **Predictive Maintenance**: Generative AI can analyze sensor data from industrial equipment to predict maintenance needs, reducing downtime and increasing overall efficiency.\n",
      "6. **Credit Scoring**: Generative AI can help create more accurate credit scores by analyzing vast amounts of financial data and identifying patterns that may not be apparent to human analysts.\n",
      "7. **Recommendation Systems**: Generative AI can improve recommendation systems on e-commerce websites and streaming platforms by generating personalized suggestions based on user behavior and preferences.\n",
      "8. **Financial Planning**: Generative AI can help create customized investment portfolios, predict market trends, and identify potential risks and opportunities.\n",
      "9. **Healthcare**: Generative AI can aid in medical diagnosis, patient data analysis, and personalized treatment plans. It can also help generate synthetic medical images for training machine learning models.\n",
      "10. **Marketing Automation**: Generative AI can automate marketing workflows by creating dynamic content, personalizing emails, and predicting customer behavior.\n",
      "11. **Speech Recognition**: Generative AI can improve speech recognition systems in voice assistants, transcription software, and other applications.\n",
      "12. **Cybersecurity**: Generative AI can help detect and respond to cyber threats by analyzing network traffic patterns, identifying anomalies, and predicting potential attacks.\n",
      "\n",
      "These are just a few examples of the many business applications of Generative AI. As the technology continues to evolve, we can expect to see even more innovative uses in various industries.\n"
     ]
    }
   ],
   "source": [
    "response = requests.post(OLLAMA_API, json=payload, headers=HEADERS)\n",
    "print(response.json()['message']['content'])"
   ]
  },
  {
   "cell_type": "markdown",
   "id": "6a021f13-d6a1-4b96-8e18-4eae49d876fe",
   "metadata": {},
   "source": [
    "# Introducing the ollama package\n",
    "\n",
    "And now we'll do the same thing, but using the elegant ollama python package instead of a direct HTTP call.\n",
    "\n",
    "Under the hood, it's making the same call as above to the ollama server running at localhost:11434"
   ]
  },
  {
   "cell_type": "code",
   "execution_count": 6,
   "id": "7745b9c4-57dc-4867-9180-61fa5db55eb8",
   "metadata": {},
   "outputs": [
    {
     "name": "stdout",
     "output_type": "stream",
     "text": [
      "Generative AI has numerous business applications across various industries. Here are some examples:\n",
      "\n",
      "1. **Content Generation**: Generative AI can be used to generate high-quality content, such as articles, social media posts, product descriptions, and more. This can help businesses streamline their content creation process and reduce costs associated with hiring writers or freelancers.\n",
      "2. **Product Design**: Generative AI can assist in the design of products by generating 3D models, prototypes, and even entire product lines. This can be particularly useful for companies that need to create complex products quickly, such as aerospace or automotive manufacturers.\n",
      "3. **Marketing Automation**: Generative AI can help automate marketing efforts by generating personalized messages, emails, and social media posts based on customer behavior and preferences.\n",
      "4. **Customer Service Chatbots**: Generative AI-powered chatbots can be used to provide 24/7 customer support, helping businesses respond quickly and efficiently to customer inquiries.\n",
      "5. **Data Analysis and Visualization**: Generative AI can help analyze large datasets and generate insights, allowing businesses to make data-driven decisions more effectively.\n",
      "6. **Image and Video Generation**: Generative AI can generate high-quality images and videos for use in marketing campaigns, product showcases, or even internal communications.\n",
      "7. **Predictive Maintenance**: Generative AI can be used to predict equipment failures and maintenance needs, helping businesses reduce downtime and increase efficiency.\n",
      "8. **Supply Chain Optimization**: Generative AI can help optimize supply chain operations by predicting demand, identifying bottlenecks, and suggesting alternative routes for logistics.\n",
      "9. **Financial Modeling**: Generative AI can generate financial models, forecasts, and scenarios, allowing businesses to better understand potential outcomes and make more informed investment decisions.\n",
      "10. **Product Personalization**: Generative AI can help create personalized products, such as customized clothing or jewelry, by generating unique designs and patterns based on customer preferences.\n",
      "\n",
      "Some specific industries that are already leveraging Generative AI include:\n",
      "\n",
      "* E-commerce (e.g., Amazon, Zappos)\n",
      "* Finance (e.g., Goldman Sachs, Morgan Stanley)\n",
      "* Healthcare (e.g., pharmaceutical companies, medical device manufacturers)\n",
      "* Retail (e.g., H&M, Nike)\n",
      "* Manufacturing (e.g., Boeing, Siemens)\n",
      "\n",
      "These are just a few examples of the many business applications of Generative AI. As the technology continues to evolve, we can expect to see even more innovative uses across various industries.\n"
     ]
    }
   ],
   "source": [
    "import ollama\n",
    "\n",
    "response = ollama.chat(model=MODEL, messages=messages)\n",
    "print(response['message']['content'])"
   ]
  },
  {
   "cell_type": "markdown",
   "id": "1622d9bb-5c68-4d4e-9ca4-b492c751f898",
   "metadata": {},
   "source": [
    "# NOW the exercise for you\n",
    "\n",
    "Take the code from day1 and incorporate it here, to build a website summarizer that uses Llama 3.2 running locally instead of OpenAI"
   ]
  },
  {
   "cell_type": "code",
   "execution_count": 7,
   "id": "85664a38-a903-4b2f-b2a3-e89df4a940af",
   "metadata": {},
   "outputs": [],
   "source": [
    "# imports\n",
    "\n",
    "import os\n",
    "import requests\n",
    "from dotenv import load_dotenv\n",
    "from bs4 import BeautifulSoup\n",
    "from IPython.display import Markdown, display\n",
    "import ollama\n",
    "\n",
    "OLLAMA_API = \"http://localhost:11434/api/chat\"\n",
    "HEADERS = {\"Content-Type\": \"application/json\"}\n",
    "MODEL = \"llama3.2\"\n",
    "\n",
    "# If you get an error running this cell, then please head over to the troubleshooting notebook!"
   ]
  },
  {
   "cell_type": "code",
   "execution_count": 8,
   "id": "88b311ff-e1f5-40b8-827a-7d3dc2005b09",
   "metadata": {},
   "outputs": [],
   "source": [
    "# See how this function creates exactly the format above\n",
    "\n",
    "def messages_for(website):\n",
    "    return [\n",
    "        {\"role\": \"system\", \"content\": system_prompt},\n",
    "        {\"role\": \"user\", \"content\": user_prompt_for(website)}\n",
    "    ]"
   ]
  },
  {
   "cell_type": "code",
   "execution_count": 9,
   "id": "bc9bfd42-cb5e-429c-b352-09274d37d26b",
   "metadata": {},
   "outputs": [],
   "source": [
    "# Define our system prompt - you can experiment with this later, changing the last sentence to 'Respond in markdown in Spanish.\"\n",
    "\n",
    "system_prompt = \"You are an assistant that analyzes the contents of a website \\\n",
    "and provides a short summary, ignoring text that might be navigation related. \\\n",
    "Respond in markdown.\""
   ]
  },
  {
   "cell_type": "code",
   "execution_count": 10,
   "id": "61fe18af-a323-4e38-bca9-0161758878d8",
   "metadata": {},
   "outputs": [],
   "source": [
    "# A function that writes a User Prompt that asks for summaries of websites:\n",
    "\n",
    "def user_prompt_for(website):\n",
    "    user_prompt = f\"You are looking at a website titled {website.title}\"\n",
    "    user_prompt += \"\\nThe contents of this website is as follows; \\\n",
    "please provide a short summary of this website in markdown. \\\n",
    "If it includes news or announcements, then summarize these too.\\n\\n\"\n",
    "    user_prompt += website.text\n",
    "    return user_prompt"
   ]
  },
  {
   "cell_type": "code",
   "execution_count": 11,
   "id": "bad14590-bac9-47da-817d-a3ed9d48caed",
   "metadata": {},
   "outputs": [],
   "source": [
    "# A class to represent a Webpage\n",
    "# If you're not familiar with Classes, check out the \"Intermediate Python\" notebook\n",
    "\n",
    "class Website:\n",
    "\n",
    "    def __init__(self, url):\n",
    "        \"\"\"\n",
    "        Create this Website object from the given url using the BeautifulSoup library\n",
    "        \"\"\"\n",
    "        self.url = url\n",
    "        response = requests.get(url)\n",
    "        soup = BeautifulSoup(response.content, 'html.parser')\n",
    "        self.title = soup.title.string if soup.title else \"No title found\"\n",
    "        for irrelevant in soup.body([\"script\", \"style\", \"img\", \"input\"]):\n",
    "            irrelevant.decompose()\n",
    "        self.text = soup.body.get_text(separator=\"\\n\", strip=True)"
   ]
  },
  {
   "cell_type": "code",
   "execution_count": 12,
   "id": "103a375f-4fa6-49f2-949c-89db3db7e91c",
   "metadata": {},
   "outputs": [],
   "source": [
    "# And now: call the OpenAI API. You will get very familiar with this!\n",
    "\n",
    "def summarize(url):\n",
    "    website = Website(url)\n",
    "    response = ollama.chat(model=MODEL, messages=messages)\n",
    "    return response.message.content"
   ]
  },
  {
   "cell_type": "code",
   "execution_count": 13,
   "id": "04f8426a-da7c-40b8-80c3-02e94f4e44a8",
   "metadata": {},
   "outputs": [],
   "source": [
    "# A function to display this nicely in the Jupyter output, using markdown\n",
    "\n",
    "def display_summary(url):\n",
    "    summary = summarize(url)\n",
    "    display(Markdown(summary))"
   ]
  },
  {
   "cell_type": "code",
   "execution_count": 14,
   "id": "3e98751d-76a1-4531-85cc-e7ccdd9e09f8",
   "metadata": {},
   "outputs": [
    {
     "data": {
      "text/markdown": [
       "Generative AI has numerous business applications across various industries, including:\n",
       "\n",
       "1. **Content Generation**: Generate high-quality content such as articles, social media posts, product descriptions, and more, saving time and resources for content creators.\n",
       "2. **Image and Video Creation**: Use generative models to create realistic images, videos, and animations for marketing materials, advertising campaigns, and entertainment purposes.\n",
       "3. **Product Design**: Utilize generative AI to design new products, such as 3D models, prototypes, and product lines, accelerating the product development process.\n",
       "4. **Recommendation Systems**: Develop personalized recommendations for customers based on their preferences, behavior, and purchase history, improving customer engagement and loyalty.\n",
       "5. **Chatbots and Virtual Assistants**: Create conversational interfaces that can simulate human-like conversations, providing 24/7 support and automating customer service tasks.\n",
       "6. **Predictive Maintenance**: Use generative models to predict equipment failures, reducing downtime and increasing overall equipment effectiveness (OEE) in industries like manufacturing and healthcare.\n",
       "7. **Data Augmentation**: Generate new data samples to augment existing datasets, improving model performance and reducing the need for expensive data collection efforts.\n",
       "8. **Marketing Automation**: Automate marketing workflows by generating personalized emails, social media posts, and ad creative assets, streamlining marketing campaigns and improving ROI.\n",
       "9. **Supply Chain Optimization**: Use generative AI to optimize supply chain operations, predicting demand, identifying bottlenecks, and recommending process improvements.\n",
       "10. **Cybersecurity**: Develop predictive models to identify potential security threats and vulnerabilities, enabling proactive risk mitigation and improved incident response.\n",
       "\n",
       "Industry-specific applications:\n",
       "\n",
       "1. **Finance**: Generate personalized investment advice, automate risk assessment, and develop predictive models for credit scoring.\n",
       "2. **Healthcare**: Create personalized treatment plans, predict patient outcomes, and generate medical imaging data augmentation.\n",
       "3. **Manufacturing**: Optimize production processes, predict equipment failures, and design new product components.\n",
       "4. **Retail**: Develop personalized shopping experiences, automate marketing campaigns, and generate visual product descriptions.\n",
       "5. **Education**: Create adaptive learning materials, develop predictive models for student performance, and generate customized educational content.\n",
       "\n",
       "These are just a few examples of the many business applications of Generative AI. As the technology continues to evolve, we can expect even more innovative use cases across various industries."
      ],
      "text/plain": [
       "<IPython.core.display.Markdown object>"
      ]
     },
     "metadata": {},
     "output_type": "display_data"
    }
   ],
   "source": [
    "display_summary(\"https://edwarddonner.com\")"
   ]
  },
  {
   "cell_type": "code",
   "execution_count": null,
   "id": "0801d4dd-7c49-4f13-b03c-7f8329621c32",
   "metadata": {},
   "outputs": [],
   "source": []
  }
 ],
 "metadata": {
  "kernelspec": {
   "display_name": "Python 3 (ipykernel)",
   "language": "python",
   "name": "python3"
  },
  "language_info": {
   "codemirror_mode": {
    "name": "ipython",
    "version": 3
   },
   "file_extension": ".py",
   "mimetype": "text/x-python",
   "name": "python",
   "nbconvert_exporter": "python",
   "pygments_lexer": "ipython3",
   "version": "3.10.12"
  }
 },
 "nbformat": 4,
 "nbformat_minor": 5
}
