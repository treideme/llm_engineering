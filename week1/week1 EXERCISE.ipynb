{
 "cells": [
  {
   "cell_type": "markdown",
   "id": "fe12c203-e6a6-452c-a655-afb8a03a4ff5",
   "metadata": {},
   "source": [
    "# End of week 1 exercise\n",
    "\n",
    "To demonstrate your familiarity with OpenAI API, and also Ollama, build a tool that takes a technical question,  \n",
    "and responds with an explanation. This is a tool that you will be able to use yourself during the course!"
   ]
  },
  {
   "cell_type": "code",
   "execution_count": 1,
   "id": "c1070317-3ed9-4659-abe3-828943230e03",
   "metadata": {},
   "outputs": [],
   "source": [
    "# imports\n",
    "# If these fail, please check you're running from an 'activated' environment with (llms) in the command prompt\n",
    "\n",
    "import os\n",
    "import requests\n",
    "import json\n",
    "from typing import List\n",
    "from dotenv import load_dotenv\n",
    "from bs4 import BeautifulSoup\n",
    "from IPython.display import Markdown, display, update_display\n",
    "from openai import OpenAI\n",
    "import ollama"
   ]
  },
  {
   "cell_type": "code",
   "execution_count": 2,
   "id": "4a456906-915a-4bfd-bb9d-57e505c5093f",
   "metadata": {},
   "outputs": [],
   "source": [
    "# constants\n",
    "\n",
    "MODEL_GPT = 'gpt-4o-mini'\n",
    "MODEL_LLAMA = 'llama3.2'"
   ]
  },
  {
   "cell_type": "code",
   "execution_count": 3,
   "id": "a8d7923c-5f28-4c30-8556-342d7c8497c1",
   "metadata": {},
   "outputs": [
    {
     "name": "stdout",
     "output_type": "stream",
     "text": [
      "API key looks good so far\n"
     ]
    }
   ],
   "source": [
    "# Initialize and constants\n",
    "\n",
    "load_dotenv()\n",
    "api_key = os.getenv('OPENAI_API_KEY')\n",
    "\n",
    "if api_key and api_key.startswith('sk-proj-') and len(api_key)>10:\n",
    "    print(\"API key looks good so far\")\n",
    "else:\n",
    "    print(\"There might be a problem with your API key? Please visit the troubleshooting notebook!\")\n",
    "    \n",
    "openai = OpenAI()\n",
    "\n",
    "system_prompt = \"\"\"\n",
    "You are a technical tutor who answers technical questions. Please respond in Markdown.\n",
    "\"\"\""
   ]
  },
  {
   "cell_type": "code",
   "execution_count": 4,
   "id": "3f0d0137-52b0-47a8-81a8-11a90a010798",
   "metadata": {},
   "outputs": [],
   "source": [
    "# here is the question; type over this to ask something new\n",
    "\n",
    "question = \"\"\"\n",
    "Please explain what this code does and why:\n",
    "print\n",
    "\"\"\""
   ]
  },
  {
   "cell_type": "code",
   "execution_count": 5,
   "id": "60ce7000-a4a5-4cce-a261-e75ef45063b4",
   "metadata": {},
   "outputs": [
    {
     "data": {
      "text/markdown": [
       "The line of code you've provided, `print`, is incomplete and will result in an error if executed as-is in Python.\n",
       "\n",
       "### Explanation\n",
       "\n",
       "1. **Function**: In Python, `print` is a built-in function used to output data to the console or standard output.\n",
       "2. **Usage**: The `print()` function typically requires at least one argument (the data you want to print). For example: \n",
       "   ```python\n",
       "   print(\"Hello, World!\")\n",
       "   ```\n",
       "   This would output `Hello, World!` to the console.\n",
       "\n",
       "3. **What Happens with Just `print`**: \n",
       "   - If you just type `print` without parentheses in a Python script or in the interactive interpreter, it will return a reference to the `print` function itself. In Python versions 2.x, this could work as a statement, but in Python 3.x (which is the current version), it would cause an error unless used in some specific contexts like in a REPL or IDE.\n",
       "\n",
       "### Example of Correct Usage\n",
       "\n",
       "Here's how to properly use the `print` function:\n",
       "```python\n",
       "print(\"Hello, World!\")  # This will print: Hello, World!\n",
       "```\n",
       "\n",
       "### Conclusion\n",
       "To utilize `print` correctly, you should always include parentheses (and the values you want to print), unless you're deliberately referencing the function for some reason (such as passing it as a callback). If you run just `print`, you'll likely get a `SyntaxError` or see a representation of the `print` function if the context allows it."
      ],
      "text/plain": [
       "<IPython.core.display.Markdown object>"
      ]
     },
     "metadata": {},
     "output_type": "display_data"
    }
   ],
   "source": [
    "def answer_question(question, model):\n",
    "    response = openai.chat.completions.create(\n",
    "        model=model,\n",
    "        messages=[\n",
    "            {\"role\": \"system\", \"content\": system_prompt},\n",
    "            {\"role\": \"user\", \"content\": question}\n",
    "          ],\n",
    "    )\n",
    "    result = response.choices[0].message.content\n",
    "    display(Markdown(result))\n",
    "\n",
    "answer_question(question, MODEL_GPT)"
   ]
  },
  {
   "cell_type": "code",
   "execution_count": 13,
   "id": "8f7c8ea8-4082-4ad0-8751-3301adcf6538",
   "metadata": {},
   "outputs": [],
   "source": [
    "messages=[\n",
    "            {\"role\": \"system\", \"content\": system_prompt},\n",
    "            {\"role\": \"user\", \"content\": question}\n",
    "         ]\n",
    "\n",
    "response = ollama.chat(model=MODEL_LLAMA, \n",
    "                       messages=messages,\n",
    "                      stream=False)"
   ]
  },
  {
   "cell_type": "code",
   "execution_count": 17,
   "id": "6bcba7bb-c64c-4497-8ed1-552b3b322dfe",
   "metadata": {},
   "outputs": [
    {
     "data": {
      "text/markdown": [
       "**Code Explanation**\n",
       "\n",
       "The code `print` is a built-in function in Python that outputs its argument to the standard output (usually the screen).\n",
       "\n",
       "**Syntax**\n",
       "```python\n",
       "print([expr])\n",
       "```\n",
       "Where:\n",
       "\n",
       "* `[expr]`: an expression or value to be printed.\n",
       "\n",
       "**Why it's used**\n",
       "\n",
       "The `print` function is commonly used for several purposes:\n",
       "\n",
       "1. **Debugging**: It allows developers to print intermediate values, debug messages, or error messages during the development process.\n",
       "2. **Output**: It can be used to display data or results from a program, such as the user's name, score, or other information.\n",
       "3. **Logging**: In some cases, `print` is used as a simple logging mechanism to record events or status updates.\n",
       "\n",
       "**Example Use Cases**\n",
       "\n",
       "```python\n",
       "# Print a message to the screen\n",
       "print(\"Hello, World!\")\n",
       "\n",
       "# Print the result of an expression\n",
       "x = 5\n",
       "y = 2\n",
       "print(x + y)\n",
       "\n",
       "# Print multiple values on the same line\n",
       "name = \"John\"\n",
       "age = 30\n",
       "print(f\"My name is {name} and I am {age} years old.\")\n",
       "\n",
       "# Print a formatted string (f-strings)\n",
       "print(f\"The answer is {42}.\")\n",
       "```\n",
       "In summary, `print` is a versatile function that allows you to output data or messages from your Python program."
      ],
      "text/plain": [
       "<IPython.core.display.Markdown object>"
      ]
     },
     "metadata": {},
     "output_type": "display_data"
    }
   ],
   "source": [
    "display(Markdown(response.message.content))"
   ]
  }
 ],
 "metadata": {
  "kernelspec": {
   "display_name": "Python 3 (ipykernel)",
   "language": "python",
   "name": "python3"
  },
  "language_info": {
   "codemirror_mode": {
    "name": "ipython",
    "version": 3
   },
   "file_extension": ".py",
   "mimetype": "text/x-python",
   "name": "python",
   "nbconvert_exporter": "python",
   "pygments_lexer": "ipython3",
   "version": "3.10.12"
  }
 },
 "nbformat": 4,
 "nbformat_minor": 5
}
